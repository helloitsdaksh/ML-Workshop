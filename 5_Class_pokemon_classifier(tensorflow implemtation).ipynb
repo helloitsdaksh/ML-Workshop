{
 "cells": [
  {
   "cell_type": "code",
   "execution_count": null,
   "source": [
    "\n",
    "import tensorflow as tf \n",
    "import matplotlib.pyplot as plt\n",
    "\n"
   ],
   "outputs": [],
   "metadata": {}
  }
 ],
 "metadata": {
  "orig_nbformat": 4,
  "language_info": {
   "name": "python"
  }
 },
 "nbformat": 4,
 "nbformat_minor": 2
}